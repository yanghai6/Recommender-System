{
  "nbformat": 4,
  "nbformat_minor": 0,
  "metadata": {
    "colab": {
      "name": "JSC370 A1 Report.ipynb",
      "provenance": [],
      "collapsed_sections": [],
      "toc_visible": true
    },
    "kernelspec": {
      "name": "python3",
      "display_name": "Python 3"
    },
    "accelerator": "GPU"
  },
  "cells": [
    {
      "cell_type": "code",
      "metadata": {
        "id": "T6b72TRsVLnd"
      },
      "source": [
        "# Code given\n",
        "# import required libraries\n",
        "!pip install wget\n",
        "import os\n",
        "import os.path\n",
        "\n",
        "import matplotlib.pyplot as plt\n",
        "import wget\n",
        "\n",
        "import jax\n",
        "import jax.numpy as jnp\n",
        "import numpy.random as npr\n",
        "from jax.api import jit, grad\n",
        "\n",
        "import pandas as pd\n",
        "import numpy as np\n",
        "from matplotlib import pyplot as plt "
      ],
      "execution_count": null,
      "outputs": []
    },
    {
      "cell_type": "code",
      "metadata": {
        "id": "dUVwC0gg5vwo"
      },
      "source": [
        "# Code given\n",
        "wget.download(\"https://github.com/MIE451-1513-2019/course-datasets/raw/master/ml-100k.zip\")\n",
        "!unzip ml-100k.zip\n",
        "MOVIELENS_DIR = \"ml-100k\""
      ],
      "execution_count": null,
      "outputs": []
    },
    {
      "cell_type": "code",
      "metadata": {
        "id": "ESkzES8uWDMF"
      },
      "source": [
        "# Code given\n",
        "!ls {MOVIELENS_DIR}"
      ],
      "execution_count": null,
      "outputs": []
    },
    {
      "cell_type": "code",
      "metadata": {
        "id": "6qbbDqUCWQdS"
      },
      "source": [
        "# Code given\n",
        "def getData(folder_path, file_name):\n",
        "    fields = ['userID', 'itemID', 'rating', 'timestamp']\n",
        "    data = pd.read_csv(os.path.join(folder_path, file_name), sep='\\t', names=fields)\n",
        "    return data\n",
        "rating_df = getData(MOVIELENS_DIR, 'u.data')"
      ],
      "execution_count": null,
      "outputs": []
    },
    {
      "cell_type": "code",
      "metadata": {
        "id": "mrjIe9odWTc-"
      },
      "source": [
        "# Code given\n",
        "num_users = len(rating_df.userID.unique())\n",
        "num_items = len(rating_df.itemID.unique())"
      ],
      "execution_count": null,
      "outputs": []
    },
    {
      "cell_type": "code",
      "metadata": {
        "id": "RVIonpjJWU96"
      },
      "source": [
        "# Code given\n",
        "def dataFrameToArray(rating_df):\n",
        "    \"\"\"\n",
        "        INPUT: \n",
        "            data: pandas DataFrame. columns=['userID', 'itemID', 'rating' ...]\n",
        "            num_row: int. number of users\n",
        "            num_col: int. number of items\n",
        "            \n",
        "        OUTPUT:\n",
        "            matrix: 2D numpy array. \n",
        "    \"\"\"\n",
        "    matrix = np.zeros((rating_df.shape[0], 4), dtype=np.int32)\n",
        "    # Populate the matrix based on the dataset\n",
        "    for (index, userID, itemID, rating, timestamp) in rating_df.itertuples():\n",
        "        matrix[index, :] = jnp.array([userID, itemID, rating, timestamp])\n",
        "    return matrix\n",
        "\n",
        "big_array_raw = dataFrameToArray(rating_df)\n",
        "\n",
        "big_array = jnp.vstack([big_array_raw[:, 0] - 1,\n",
        "                           big_array_raw[:, 1] - 1,\n",
        "                           big_array_raw[:, 2]]).T\n",
        "# now it's zero-indexed\n",
        "\n",
        "# Make train, validation, and test splits\n",
        "train_mat = big_array[:80000, :]\n",
        "valid_mat = big_array[80000:90000, :]\n",
        "test_mat =  big_array[90000:100000, :]\n",
        "\n",
        "train_inputs, train_targets = train_mat[:, :2], train_mat[:, 2].astype(jnp.float32)\n",
        "test_inputs,  test_targets  = test_mat[:, :2],  test_mat[:, 2].astype(jnp.float32)\n",
        "\n"
      ],
      "execution_count": null,
      "outputs": []
    },
    {
      "cell_type": "markdown",
      "metadata": {
        "id": "yQqnM_idMSfD"
      },
      "source": [
        "# **Recommender System**\n",
        "\n",
        "**Haiyue Yang, Yun Shen, Xin Peng**\n"
      ]
    },
    {
      "cell_type": "markdown",
      "metadata": {
        "id": "Dv91K8jMJYMU"
      },
      "source": [
        "Most platforms we used nowadays, for example, Youtube, Amazon, Netflix, are supported by recommender systems. And it helps personalize the recommendations based on users' interest and browsing history, purchasing history. Netflix even has provided a Netflix Prize to honour teams that can make improvements on predicting users' ratings for movies. \n",
        "\n",
        "And in this report, we used MovieLens data sets colleted by the GroupLens Research Project. And it contains 100,000 ratings from 943 users on 1682 movies.\n",
        "\n",
        "And we have explored the data, brainstormed what factors could help improve the recommender system, proposed several models, and implemented three variants of PMF below."
      ]
    },
    {
      "cell_type": "markdown",
      "metadata": {
        "id": "QIYYzdLj55j4"
      },
      "source": [
        "# Add-on Value of the Data\n",
        "\n",
        "* Make recommendations for groups with similar interest: \n",
        " * Imagine your view history and interest are similar to other people, you can be identified as a group and some group actions can be made to the whole group.\n",
        "\n",
        "* Understand what’s trending over time for investment: \n",
        " * Companies like Netflix will utilize this to decide what to produce for the next season.\n",
        "\n",
        "* Suggest friends based on mutual interests: This can be implemented in social networks platforms.\n",
        "\n",
        "* Show ads to target customers based on their view history"
      ]
    },
    {
      "cell_type": "markdown",
      "metadata": {
        "id": "o5vONrLur7QK"
      },
      "source": [
        "# Key Factors to Measure Success\n",
        "\n",
        "* the number of daily active users: \n",
        " * A streaming service with a sophisticated recommender system will attract users to stay active because they will be watching the recommended movies.\n",
        "\n",
        "* the increase in the number of views for recommended movies: \n",
        " * If the movies are recommended to the correct groups of people, there should be more people watching it.\n",
        "\n",
        "* the rating of recommended movies by target users:\n",
        " * If the user likes the recommended movie, he tends to give a high rating.\n",
        "\n",
        "* “not interested” reaction\n",
        " * One example is the like/dislike button on youtube.\n",
        " * If the user doesn’t like the recommended movie, it indicates that the recommender system goes wrong sometimes.\n",
        "\n"
      ]
    },
    {
      "cell_type": "markdown",
      "metadata": {
        "id": "ak0NRkbtdlTT"
      },
      "source": [
        "# Data Exploration"
      ]
    },
    {
      "cell_type": "markdown",
      "metadata": {
        "id": "T837hk-fnDw7"
      },
      "source": [
        "\n",
        "## Problems in the Data"
      ]
    },
    {
      "cell_type": "code",
      "metadata": {
        "id": "aw-okP3rdu68"
      },
      "source": [
        "def getMovieData(folder_path, file_name):\n",
        "    fields = ['itemID', 'itemTitle', 'releaseDate', 'videoReleaseDate', 'imdb', 'unknown', 'action', 'adventure', 'animation', \n",
        "              'children', 'comedy', 'crime', 'documentary', 'drama', 'fantasy',\n",
        "              'film-noir', 'horror', 'musical', 'mystery', 'romance', 'sci-fi',\n",
        "              'thriller', 'war', 'western']\n",
        "    data = pd.read_csv(os.path.join(folder_path, file_name), sep='|', names=fields, encoding=\"ISO-8859-1\")\n",
        "    return data\n",
        "movie_df = getMovieData(MOVIELENS_DIR, 'u.item')\n",
        "movie_df = movie_df.drop(columns=['releaseDate', 'videoReleaseDate', 'imdb'])\n",
        "rating_movie_df = pd.merge(rating_df, movie_df, on=\"itemID\")"
      ],
      "execution_count": null,
      "outputs": []
    },
    {
      "cell_type": "code",
      "metadata": {
        "id": "HeRm_vhilru4"
      },
      "source": [
        "cats = ['unknown', 'action', 'adventure', 'animation', \n",
        "              'children', 'comedy', 'crime', 'documentary', 'drama', 'fantasy',\n",
        "              'film-noir', 'horror', 'musical', 'mystery', 'romance', 'sci-fi',\n",
        "              'thriller', 'war', 'western']\n",
        "counts = []\n",
        "agg = rating_movie_df.agg('sum')\n",
        "for cat in cats:\n",
        "  counts.append(agg[cat])\n",
        "category_df = pd.DataFrame({\"category\": cats, \"count\": counts})\n",
        "category_df = category_df.sort_values('count')"
      ],
      "execution_count": null,
      "outputs": []
    },
    {
      "cell_type": "code",
      "metadata": {
        "colab": {
          "base_uri": "https://localhost:8080/",
          "height": 482
        },
        "id": "hjLN6HPQlkpk",
        "outputId": "1ba0a0fd-c61f-4ffc-9eeb-9205e8fa322a"
      },
      "source": [
        "plt.figure(figsize=(18,9))\n",
        "plt.title(\"Number of Ratings in Each Category of Movies\")\n",
        "plt.bar(category_df['category'], category_df['count'])\n",
        "plt.show()"
      ],
      "execution_count": null,
      "outputs": [
        {
          "output_type": "display_data",
          "data": {
            "image/png": "[encoded data removed]",
            "text/plain": [
              "<Figure size 1296x648 with 1 Axes>"
            ]
          },
          "metadata": {
            "tags": [],
            "needs_background": "light"
          }
        }
      ]
    },
    {
      "cell_type": "markdown",
      "metadata": {
        "id": "nypWc2gfmcP_"
      },
      "source": [
        "* The number of ratings in each category varies a lot. \n",
        "* Some categories like action, comedy, drama, and thriller movies have more than 20 thousand ratings in total, but other categories like documentary movies have only fewer than 1000 ratings. \n",
        "* 10 ratings of movie do not have a known category.\n",
        "* predictions based on the categorical information about the movies in unpopular categories or even in an unknown category might not be reliable.\n"
      ]
    },
    {
      "cell_type": "markdown",
      "metadata": {
        "id": "uYPyB6KEm9eb"
      },
      "source": [
        "## Distribution of Number of Ratings"
      ]
    },
    {
      "cell_type": "code",
      "metadata": {
        "id": "Xb5U6EA-lpgl"
      },
      "source": [
        "num_rating = rating_df[['userID', 'rating']].groupby(['userID']).agg('count')"
      ],
      "execution_count": null,
      "outputs": []
    },
    {
      "cell_type": "code",
      "metadata": {
        "colab": {
          "base_uri": "https://localhost:8080/",
          "height": 488
        },
        "id": "WbJ6IQ8Tnbnf",
        "outputId": "786d5bf4-91ae-47c5-9283-0fc4ce45fa27"
      },
      "source": [
        "plt.figure(figsize=(18,9))\n",
        "plt.title(\"Distribution of Number of Ratings\")\n",
        "plt.hist(num_rating['rating'], bins = 10) \n",
        "plt.show()"
      ],
      "execution_count": null,
      "outputs": [
        {
          "output_type": "display_data",
          "data": {
            "image/png": "[encoded data removed]",
            "text/plain": [
              "<Figure size 1296x648 with 1 Axes>"
            ]
          },
          "metadata": {
            "tags": [],
            "needs_background": "light"
          }
        }
      ]
    },
    {
      "cell_type": "markdown",
      "metadata": {
        "id": "KQLYz-TkoOkJ"
      },
      "source": [
        "* Number of ratings of each user ranges from 20 to approximately 800. \n",
        "* Ghost users with fewer than 20 ratings were already deleted.\n",
        "* The distribution of unimodal and strongly skewed to the right\n",
        "* More than half of users having fewer than 100 ratings and few users having more than 300 ratings.\n"
      ]
    },
    {
      "cell_type": "markdown",
      "metadata": {
        "id": "_nGoDb91oVAp"
      },
      "source": [
        "## Distribution of Ratings"
      ]
    },
    {
      "cell_type": "code",
      "metadata": {
        "id": "05XkQdJ5oZt7"
      },
      "source": [
        "rating = rating_df[['userID', 'rating']].groupby('rating').agg(['count'])"
      ],
      "execution_count": null,
      "outputs": []
    },
    {
      "cell_type": "code",
      "metadata": {
        "colab": {
          "base_uri": "https://localhost:8080/",
          "height": 482
        },
        "id": "USImuwU1ofhA",
        "outputId": "b15f05d3-6e5f-40c5-e9b1-2dc8d8992977"
      },
      "source": [
        "plt.figure(figsize=(18,9))\n",
        "plt.title('Distribution of Ratings')\n",
        "plt.bar(rating['userID'].index, rating['userID']['count'])\n",
        "plt.show()"
      ],
      "execution_count": null,
      "outputs": [
        {
          "output_type": "display_data",
          "data": {
            "image/png": "[encoded data removed]",
            "text/plain": [
              "<Figure size 1296x648 with 1 Axes>"
            ]
          },
          "metadata": {
            "tags": [],
            "needs_background": "light"
          }
        }
      ]
    },
    {
      "cell_type": "markdown",
      "metadata": {
        "id": "P6ONn2Q1pHZW"
      },
      "source": [
        "* The distribution of ratings is uni-model and skewed to the left, with a peak at a rating of 4. \n",
        "* Most of the ratings have a score of 4 or 3, a few ratings have a score of 5, and only a small proportion of ratings have a score of 1 or 2.\n",
        "* Fake users with all-5 or all all-1 ratings were already deleted."
      ]
    },
    {
      "cell_type": "markdown",
      "metadata": {
        "id": "bcnEQkigpkVi"
      },
      "source": [
        "## Things Depend on Time\n",
        "\n",
        "* Movies are merging.\n",
        "* Users' preference change with time.\n",
        "* Users' rating standard on movies change with time.\n",
        "* Hot topics and movie trend change over time."
      ]
    },
    {
      "cell_type": "markdown",
      "metadata": {
        "id": "Fjtx16GFdj41"
      },
      "source": [
        "\n",
        "# Complementary Sources of Data\n",
        "The data we used here only contain title, release date, video release date, IMDB URL, genres about the movies, but additional information about movies like \n",
        "\n",
        "*   movie contents\n",
        "*   cast\n",
        "*   awards\n",
        "*   professional ratings\n",
        "*   popularity\n",
        "*   language\n",
        "\n",
        "can be very useful in helping make better recommendation.\n",
        "\n",
        "Similarly, since our data only has age, gender, occupation, zip code about users, some complementary sources can be users' favourite directors, living country, spoken language, etc.\n",
        "\n",
        "In addition, users' search history and browsing history may also be useful in showing what they are interested in.\n",
        "\n",
        "# List of Factors that Could Affect the Recorded Data\n",
        "Before building up a model, it is important to notice that rating in reality is very complicated, and there are many factors that could conceivably influence people's rating. Here are some of these factors:\n",
        "\n",
        "*   The overall rating and professional rating of the movie.\n",
        "*   Preference over some actor/actress in a movie.\n",
        "*   People's rating habits are different. Some give an overall high rating; some people tend to give low ratings.\n",
        "*   Popularity of the movie.\n",
        "*   Availability of the movie. People have easy access to some movies, while others are not.\n",
        "*   Social influence and reputation of the movies.\n",
        "*   Personal relevance to the movie.\n",
        "*   Culture similarity with the movie.\n",
        "*   The user's account being hacked.\n",
        "*   Some users are bots, and give fake ratings.\n",
        "*   Standard of 'high quality movies' has changed over time. For example, the IMAX-3D techonology in 2009 is very rare and new, movies like Avatar using IMAX-3D techonology received high ratings. But people are no longer feel so impressed by IMAX-3D techonology in 2021.\n",
        "*   Viewing condition of the user. Viewing a movie in computer and in cinema will have different visual effect and sound effect.\n",
        "*   Users' mood when watching a movie.\n",
        "*   Movie's relevance to the hot topics. For example, movie Flu shot in 2013 received higher ratings in 2020 than it was in 2013, since it is closely related to COVID-19.\n"
      ]
    },
    {
      "cell_type": "markdown",
      "metadata": {
        "id": "tyEplBLkQdvr"
      },
      "source": [
        "# Model Staircase\n",
        "Here are some models we proposed.\n",
        "\n",
        "*   Use mean rating of the movies rated by each user assuming each user will give same rating to all movies.\n",
        "*   Use KNN to predict movie rating by finding the Nearest Neighbours that the user has rated.\n",
        "*   Use different user and movie latents for female and male.\n",
        "*   Use movie side info instead of movie latents.\n",
        "(This does not predict well, and the final testing rmse is around 0.78. So only use movie side info, i.e., 19 genres is not enough here.)\n",
        "*   Add temporal features to the PMF. (Variant 1: Temporal)\n",
        "*   Use side info in addition to latents. (Variant 2: Side Info)\n",
        "*   Prediction function is a non-linear matrix factorization. (Variant 3: Non-linear)\n"
      ]
    },
    {
      "cell_type": "markdown",
      "metadata": {
        "id": "gKjfhf0dtzBh"
      },
      "source": [
        "# Baseline Model (PMF)\n"
      ]
    },
    {
      "cell_type": "markdown",
      "metadata": {
        "id": "E9oLvKTVEdfx"
      },
      "source": [
        "The baseline model provided for us uses PMF. \n",
        "\n",
        "$r_{ui} = P_uQ_i^T$, \n",
        "\n",
        "where $r_{ui}$ is the rating of User $u$ to Item $i$, and $P$ is user latent factor matrix with dimension $n \\times k$, $Q$ is item latent factor matrix with dimension $m \\times k$.\n",
        "\n",
        "And we will implement three variants of PMF below.\n"
      ]
    },
    {
      "cell_type": "code",
      "metadata": {
        "id": "Bmwu_cLHW0zZ"
      },
      "source": [
        "# Model implementation in JAX (https://github.com/google/jax)\n",
        "from jax.scipy.special import logsumexp\n",
        "\n",
        "# Optimization hyperparameters\n",
        "step_size = 10.0\n",
        "train_iters = 5000\n",
        "iterations = []\n",
        "train_loss_lst = []\n",
        "train_rmse_lst = []\n",
        "test_rmse_lst = []\n",
        "\n",
        "# Model hyperparameters\n",
        "num_factors = 1\n",
        "init_scale = 0.1\n",
        "latent_param_regularization = 0.1\n",
        "\n",
        "# Init parameters.  Add an extra column for biases.\n",
        "np.random.seed(2)\n",
        "user_latents  = np.random.randn(num_users, num_factors + 1) * init_scale\n",
        "movie_latents = np.random.randn(num_items, num_factors + 1) * init_scale\n",
        "params = (user_latents, movie_latents)\n",
        "\n",
        "# Actual model\n",
        "mean_rating = jnp.mean(train_targets)\n",
        "def pmf_predict(user_latents, movie_latents, inputs):\n",
        "  (user_index, movie_index) = (inputs[:, 0], inputs[:, 1])\n",
        "  raw_preds = jnp.sum(user_latents[user_index, :-1] * movie_latents[movie_index, :-1], axis=1) \\\n",
        "         + mean_rating + user_latents[user_index, -1] + movie_latents[movie_index,-1]\n",
        "  return raw_preds\n",
        "\n",
        "def regularization_loss(user_latents, movie_latents):\n",
        "  return latent_param_regularization * (jnp.mean((user_latents)**2) + jnp.mean((movie_latents)**2))\n",
        "\n",
        "def prediction_mse(params, inputs, targets):\n",
        "  preds = pmf_predict(*params, inputs)\n",
        "  return (preds - targets)**2\n",
        "\n",
        "def training_loss(params, inputs, targets):\n",
        "  return regularization_loss(*params) + jnp.mean(prediction_mse(params, inputs, targets), axis=0)\n",
        "\n",
        "# One training step\n",
        "@jit  # Pre-compiles the function to speed up training.\n",
        "def sgd_update(params, i):  # Stochastic gradient descent\n",
        "  (grads_user, grads_movie) = grad(training_loss)(params, train_inputs, train_targets)\n",
        "  (user_latents, movie_latents) = params\n",
        "  return (user_latents  - step_size * grads_user,  # one step of gradient descent\n",
        "          movie_latents - step_size * grads_movie)\n",
        "\n",
        "# Main training loop\n",
        "for i in range(train_iters):\n",
        "  params = sgd_update(params, i)\n",
        "  if i % 100 == 0:\n",
        "    # Print current progress\n",
        "    train_loss = training_loss(params, train_inputs, train_targets)\n",
        "    train_rmse = jnp.sqrt(prediction_mse(params, train_inputs, train_targets))\n",
        "    test_rmse  = jnp.sqrt(prediction_mse(params, test_inputs, test_targets))\n",
        "    print(i, train_loss, jnp.mean(train_rmse), jnp.mean(test_rmse))\n",
        "    iterations.append(i)\n",
        "    train_loss_lst.append(train_loss)\n",
        "    train_rmse_lst.append(jnp.mean(train_rmse))\n",
        "    test_rmse_lst.append(jnp.mean(test_rmse))"
      ],
      "execution_count": null,
      "outputs": []
    },
    {
      "cell_type": "markdown",
      "metadata": {
        "id": "5bnLb91PGgkq"
      },
      "source": [
        "# Variant 1: Adding Temporal Features to PMF"
      ]
    },
    {
      "cell_type": "markdown",
      "metadata": {
        "id": "BLOUx3PdG0my"
      },
      "source": [
        "In reality, user preference and movie popularity change over time. Therefore, we should account for the temporal effects reflecting the dynamic nature of user-item interactions. To accomplish this, we can add a temporal term that affects user preferences and, therefore, the interaction between users and items.\n",
        "\n",
        "Recall our original PMF uses the latent of each user and the latent of each movie. We now add temporal latent accounting for the change in time and the user-temporal latent accounting for the change of user reaction over time. Thus, the user-time interaction is a dot product between the user temporal latent and the temporal latent.\n",
        "\n",
        "$r_{ui} = P_uQ_i^T + P_u(t)$, \n",
        "\n",
        "where $r_{ui}$ is the rating of User $u$ to Item $i$, and $P$ is user latent factor matrix with dimension $n \\times k$, $Q$ is item latent factor matrix with dimension $m \\times k$ (the same as the baseline PMF), and $P_u (t)$ takes user factors as a function of time."
      ]
    },
    {
      "cell_type": "markdown",
      "metadata": {
        "id": "gpCTdq4gwLQD"
      },
      "source": [
        "## Model and Sanity Check"
      ]
    },
    {
      "cell_type": "code",
      "metadata": {
        "id": "ztvUDje5Hnk6"
      },
      "source": [
        "# Add a new column \"numRate\" to measure the number of times each user posts a rating; refer as rank\n",
        "rating_rank_df = rating_df.copy()\n",
        "rating_rank_df['numRate'] = rating_rank_df.groupby(\"userID\")[\"timestamp\"].rank(ascending=True)"
      ],
      "execution_count": null,
      "outputs": []
    },
    {
      "cell_type": "code",
      "metadata": {
        "id": "8ZUuXJoMIjeP"
      },
      "source": [
        "# A new dataframe to array function that also includes the new column rank; adapted from the original one\n",
        "def dataFrameToArrayWithRank(rating_rank_df):\n",
        "    \"\"\"\n",
        "        INPUT: \n",
        "            data: pandas DataFrame. columns=['userID', 'itemID', 'rating' ...]\n",
        "            num_row: int. number of users\n",
        "            num_col: int. number of items\n",
        "            \n",
        "        OUTPUT:\n",
        "            matrix: 2D numpy array. \n",
        "    \"\"\"\n",
        "    matrix = np.zeros((rating_rank_df.shape[0], 5), dtype=np.int32)\n",
        "    # Populate the matrix based on the dataset\n",
        "    for (index, userID, itemID, rating, timestamp, numRate) in rating_rank_df.itertuples():\n",
        "        matrix[index, :] = np.array([userID, itemID, rating, timestamp, numRate])\n",
        "    return matrix\n",
        "\n",
        "rank_big_array = dataFrameToArrayWithRank(rating_rank_df)\n",
        "\n",
        "# Make train, validation, and test splits\n",
        "rank_train_mat = rank_big_array[:80000, :]\n",
        "rank_valid_mat = rank_big_array[80000:90000, :]\n",
        "rank_test_mat =  rank_big_array[90000:100000, :]\n",
        "\n",
        "rank_train_inputs, rank_train_targets = rank_train_mat[:, [0,1,4]], rank_train_mat[:, 2].astype(jnp.float32)\n",
        "rank_test_inputs,  rank_test_targets  = rank_test_mat[:, [0,1,4]], rank_test_mat[:, 2].astype(jnp.float32)\n",
        "\n"
      ],
      "execution_count": null,
      "outputs": []
    },
    {
      "cell_type": "code",
      "metadata": {
        "id": "O5D5OXwUJIcy"
      },
      "source": [
        "# Save these constants to generate latents\n",
        "num_users = len(rating_rank_df.userID.unique())\n",
        "num_items = len(rating_rank_df.itemID.unique())\n",
        "num_rate = len(rating_rank_df.numRate.unique())"
      ],
      "execution_count": null,
      "outputs": []
    },
    {
      "cell_type": "markdown",
      "metadata": {
        "id": "1TOfQUkBHynZ"
      },
      "source": [
        "Number of iterations, training loss, training RMSE, testing RMSE using Variant 1."
      ]
    },
    {
      "cell_type": "code",
      "metadata": {
        "colab": {
          "base_uri": "https://localhost:8080/"
        },
        "id": "uM9xn5VYJS6T",
        "outputId": "dd882d09-97b8-484c-a156-f6970bd5fae1"
      },
      "source": [
        "# Model implementation in JAX (https://github.com/google/jax)\n",
        "\n",
        "# Optimization hyperparameters\n",
        "step_size = 10.0\n",
        "train_iters = 5000\n",
        "train_loss_lst3 = []\n",
        "train_rmse_lst3 = []\n",
        "test_rmse_lst3 = []\n",
        "\n",
        "# Model hyperparameters\n",
        "num_factors = 3\n",
        "init_scale = 0.1\n",
        "latent_param_regularization = 0.1\n",
        "kt = 2 # Number of dimensions per temporal\n",
        "\n",
        "# Init parameters\n",
        "user_latents  = np.random.randn(num_users, num_factors) * init_scale\n",
        "movie_latents = np.random.randn(num_items, num_factors) * init_scale\n",
        "temp = np.random.rand(num_rate, kt) * init_scale # Temporal latent\n",
        "user_temp = np.random.rand(num_users, kt) * init_scale # User-Temporal latent\n",
        "params = (user_latents, movie_latents, temp, user_temp)\n",
        "\n",
        "# Actual model\n",
        "mean_rating = jnp.mean(rank_train_targets)\n",
        "def pmf_predict(user_latents, movie_latents, temp, user_temp, inputs):\n",
        "  (user_index, movie_index, rank) = (inputs[:, 0], inputs[:, 1], inputs[:, 2])\n",
        "  return jnp.sum(user_latents[user_index] * movie_latents[movie_index], axis=1) + jnp.sum(temp[rank] * user_temp[user_index], axis=1) + mean_rating\n",
        "\n",
        "def regularization_loss(user_latents, movie_latents, temp, user_temp, inputs):\n",
        "  return latent_param_regularization * (jnp.mean(user_latents**2) + jnp.mean(movie_latents**2) + jnp.mean(temp**2) + jnp.mean(user_temp**2))\n",
        "\n",
        "def prediction_mse(params, inputs, targets):\n",
        "  preds = pmf_predict(*params, inputs)\n",
        "  return (preds - targets)**2\n",
        "\n",
        "def training_loss(params, inputs, targets):\n",
        "  return regularization_loss(*params, inputs) + jnp.mean(prediction_mse(params, inputs, targets), axis=0)\n",
        "\n",
        "# One training step\n",
        "@jit  # Pre-compiles the function to speed up training.\n",
        "def sgd_update(params, i):  # Stochastic gradient descent\n",
        "  (grads_user, grads_movie, grad_temp, grad_user_temp) = grad(training_loss)(params, rank_train_inputs, rank_train_targets)\n",
        "  (user_latents, movie_latents, temp, user_temp) = params\n",
        "  return (user_latents  - step_size * grads_user,  # one step of gradient descent\n",
        "          movie_latents - step_size * grads_movie, \n",
        "          temp - step_size * grad_temp, \n",
        "          user_temp - step_size * grad_user_temp)\n",
        "\n",
        "# Main training loop\n",
        "for i in range(train_iters):\n",
        "  params = sgd_update(params, i)\n",
        "  if i % 100 == 0:\n",
        "    # Print current progress\n",
        "    train_loss = training_loss(params, rank_train_inputs, rank_train_targets)\n",
        "    train_rmse = jnp.sqrt(prediction_mse(params, rank_train_inputs, rank_train_targets))\n",
        "    test_rmse  = jnp.sqrt(prediction_mse(params, rank_test_inputs, rank_test_targets))\n",
        "    print(i, train_loss, jnp.mean(train_rmse), jnp.mean(test_rmse))\n",
        "    # Save the results for plotting purpose\n",
        "    train_loss_lst3.append(train_loss)\n",
        "    train_rmse_lst3.append(jnp.mean(train_rmse))\n",
        "    test_rmse_lst3.append(jnp.mean(test_rmse))"
      ],
      "execution_count": null,
      "outputs": [
        {
          "output_type": "stream",
          "text": [
            "0 1.2738315 0.94510305 0.94745064\n",
            "100 1.1786981 0.9038757 0.92231274\n",
            "200 1.0713223 0.83177096 0.8629265\n",
            "300 0.9503269 0.7677249 0.80975646\n",
            "400 0.867045 0.72243065 0.77153456\n",
            "500 0.82006526 0.69554865 0.75337356\n",
            "600 0.7926598 0.6790036 0.7440422\n",
            "700 0.7759146 0.668286 0.73918927\n",
            "800 0.76499814 0.66105455 0.73678064\n",
            "900 0.7574418 0.65586495 0.73544556\n",
            "1000 0.75194424 0.65195405 0.73470646\n",
            "1100 0.74778193 0.64889616 0.73430705\n",
            "1200 0.74453 0.64645743 0.7341772\n",
            "1300 0.7419253 0.64446366 0.7341016\n",
            "1400 0.7397969 0.64279395 0.7340288\n",
            "1500 0.7380288 0.6413653 0.73393106\n",
            "1600 0.73653966 0.64013547 0.73384213\n",
            "1700 0.7352705 0.6390727 0.7337597\n",
            "1800 0.73417735 0.6381424 0.73367184\n",
            "1900 0.73322684 0.63732105 0.7335686\n",
            "2000 0.7323937 0.6365943 0.7334614\n",
            "2100 0.7316577 0.63594925 0.73334694\n",
            "2200 0.7310028 0.6353814 0.7332312\n",
            "2300 0.7304165 0.63487965 0.7330947\n",
            "2400 0.72988844 0.63443 0.73293805\n",
            "2500 0.7294104 0.6340248 0.7327798\n",
            "2600 0.7289755 0.63365513 0.73261666\n",
            "2700 0.72857815 0.6333142 0.7324604\n",
            "2800 0.72821367 0.63300097 0.7322926\n",
            "2900 0.7278782 0.6327138 0.73212326\n",
            "3000 0.7275686 0.6324538 0.731955\n",
            "3100 0.727282 0.63221884 0.7317795\n",
            "3200 0.7270159 0.63200307 0.7316011\n",
            "3300 0.7267685 0.63180274 0.73143315\n",
            "3400 0.7265379 0.6316163 0.7312751\n",
            "3500 0.7263224 0.6314425 0.73112696\n",
            "3600 0.726121 0.6312799 0.73098546\n",
            "3700 0.72593224 0.6311276 0.73084813\n",
            "3800 0.7257551 0.63098925 0.7307133\n",
            "3900 0.7255886 0.63086015 0.73058707\n",
            "4000 0.7254319 0.6307379 0.7304627\n",
            "4100 0.7252843 0.6306216 0.7303367\n",
            "4200 0.72514486 0.6305127 0.73021275\n",
            "4300 0.7250132 0.6304111 0.73009074\n",
            "4400 0.72488856 0.630314 0.7299749\n",
            "4500 0.7247707 0.6302223 0.72985834\n",
            "4600 0.72465885 0.63013697 0.7297491\n",
            "4700 0.72455275 0.6300566 0.7296424\n",
            "4800 0.7244519 0.62997955 0.7295351\n",
            "4900 0.724356 0.6299066 0.72942984\n"
          ],
          "name": "stdout"
        }
      ]
    },
    {
      "cell_type": "code",
      "metadata": {
        "colab": {
          "base_uri": "https://localhost:8080/",
          "height": 281
        },
        "id": "AZQgkwDOwVB0",
        "outputId": "b5eb816a-a67e-409b-b170-1e3f298eed12"
      },
      "source": [
        "plt.plot(pmf_predict(*params, rank_test_inputs), rank_test_mat[:, 2].astype(jnp.float32), '.')\n",
        "plt.title(\"Predicted Rating vs. Actual Rating on Test Data\")\n",
        "plt.show()"
      ],
      "execution_count": null,
      "outputs": [
        {
          "output_type": "display_data",
          "data": {
            "image/png": "[encoded data removed]",
            "text/plain": [
              "<Figure size 432x288 with 1 Axes>"
            ]
          },
          "metadata": {
            "tags": [],
            "needs_background": "light"
          }
        }
      ]
    },
    {
      "cell_type": "markdown",
      "metadata": {
        "id": "e-IgFQRVp4ov"
      },
      "source": [
        "From the plot of predicted rating vs. actual rating on test data above, we can see a trend that the range of predicted ratings shifts to the right as the actual rating increases from 1 to 5, indicating that our prediction model follows the correct trend and functions reasonably in predicting users' ratings to the movies. However, the variance in predictions seems to be very large, and we want to investigate further to find out the possible reasons why such large variance exists."
      ]
    },
    {
      "cell_type": "code",
      "metadata": {
        "id": "ngRZj3Xj-Cu5"
      },
      "source": [
        "import warnings\n",
        "warnings.filterwarnings('ignore')\n",
        "# MSE of each observation of the testing data\n",
        "test_rank_mse = prediction_mse(params, rank_test_inputs, rank_test_targets)\n",
        "test_rank_df = rating_rank_df.iloc[90000:, :]\n",
        "test_rank_df['mse'] = test_rank_mse.tolist()"
      ],
      "execution_count": null,
      "outputs": []
    },
    {
      "cell_type": "code",
      "metadata": {
        "colab": {
          "base_uri": "https://localhost:8080/",
          "height": 281
        },
        "id": "f8XmwEiZCZDa",
        "outputId": "286e47e6-57e2-448d-a29e-efeec791804a"
      },
      "source": [
        "plt.plot(test_rank_df['numRate'], test_rank_df['mse'], '.')\n",
        "plt.title(\"Number of Ratings vs. MSE\")\n",
        "plt.show()"
      ],
      "execution_count": null,
      "outputs": [
        {
          "output_type": "display_data",
          "data": {
            "image/png": "[encoded data removed]",
            "text/plain": [
              "<Figure size 432x288 with 1 Axes>"
            ]
          },
          "metadata": {
            "tags": [],
            "needs_background": "light"
          }
        }
      ]
    },
    {
      "cell_type": "markdown",
      "metadata": {
        "id": "UnqZPMeNsO_Q"
      },
      "source": [
        "One possible reason for such large variances is that the predicting power of users with less rating history is significantly weaker that that of users with numerous rating histories. Thus, we calcuate the prediction MSE for each user, and we plot the number of ratings vs. MSE.\n",
        "\n",
        "From the plot above, we see that the variance in MSE decreases as the number of ratings by the user increases. This correponsds to our previous assumption that the prediction for users with many rating histories is more accurate.\n"
      ]
    },
    {
      "cell_type": "code",
      "metadata": {
        "colab": {
          "base_uri": "https://localhost:8080/"
        },
        "id": "e377KAU_hy0e",
        "outputId": "9651a518-66de-4840-be17-f60be3849ebc"
      },
      "source": [
        "test_rank_df['numRate'].describe()"
      ],
      "execution_count": null,
      "outputs": [
        {
          "output_type": "execute_result",
          "data": {
            "text/plain": [
              "count    10000.000000\n",
              "mean        95.457200\n",
              "std         92.991796\n",
              "min          1.000000\n",
              "25%         27.000000\n",
              "50%         66.500000\n",
              "75%        136.000000\n",
              "max        720.000000\n",
              "Name: numRate, dtype: float64"
            ]
          },
          "metadata": {
            "tags": []
          },
          "execution_count": 42
        }
      ]
    },
    {
      "cell_type": "markdown",
      "metadata": {
        "id": "QgxxW6iNuO6g"
      },
      "source": [
        "Table I: The Summary of the Number of Ratings"
      ]
    },
    {
      "cell_type": "code",
      "metadata": {
        "colab": {
          "base_uri": "https://localhost:8080/"
        },
        "id": "fOlnK63PiKva",
        "outputId": "f8e6b650-0489-441e-967f-849146992a62"
      },
      "source": [
        "first_q = test_rank_df[test_rank_df['numRate'].astype(jnp.float32) <= 27]\n",
        "first_q['mse'].describe()"
      ],
      "execution_count": null,
      "outputs": [
        {
          "output_type": "execute_result",
          "data": {
            "text/plain": [
              "count    2.521000e+03\n",
              "mean     9.176382e-01\n",
              "std      1.398241e+00\n",
              "min      2.698476e-08\n",
              "25%      8.740047e-02\n",
              "50%      3.904262e-01\n",
              "75%      1.096429e+00\n",
              "max      1.344413e+01\n",
              "Name: mse, dtype: float64"
            ]
          },
          "metadata": {
            "tags": []
          },
          "execution_count": 43
        }
      ]
    },
    {
      "cell_type": "markdown",
      "metadata": {
        "id": "Juyx7I2qucar"
      },
      "source": [
        "Table II: The MSE Summary for Users in 1st Quantile in Terms of the Number of Ratings"
      ]
    },
    {
      "cell_type": "code",
      "metadata": {
        "colab": {
          "base_uri": "https://localhost:8080/"
        },
        "id": "Kh2XFD5Pi4mm",
        "outputId": "835b69c5-d24c-4f36-fd5f-9b54dbd9a3b3"
      },
      "source": [
        "fourth_q = test_rank_df[test_rank_df['numRate'].astype(jnp.float32) >= 136]\n",
        "fourth_q['mse'].describe()"
      ],
      "execution_count": null,
      "outputs": [
        {
          "output_type": "execute_result",
          "data": {
            "text/plain": [
              "count    2.515000e+03\n",
              "mean     8.390989e-01\n",
              "std      1.349318e+00\n",
              "min      4.800773e-08\n",
              "25%      7.149035e-02\n",
              "50%      3.197210e-01\n",
              "75%      9.899698e-01\n",
              "max      9.570035e+00\n",
              "Name: mse, dtype: float64"
            ]
          },
          "metadata": {
            "tags": []
          },
          "execution_count": 44
        }
      ]
    },
    {
      "cell_type": "markdown",
      "metadata": {
        "id": "8HcC4agbuvZq"
      },
      "source": [
        "Table III: The MSE Summary for Users in 4th Quantile in Terms of the Number of Ratings"
      ]
    },
    {
      "cell_type": "markdown",
      "metadata": {
        "id": "TvVGbVQGuyXd"
      },
      "source": [
        "We want to look at the numbers more closely. The average MSE of predictions among users who are in the first quantile in terms of the number of ratings is around 0.9228. The average MSE of predictions among users who are in the first quantile in terms of the number of ratings is around 0.8143. This is an indication to our previous assumption."
      ]
    },
    {
      "cell_type": "markdown",
      "metadata": {
        "id": "g8qwKyw_wRIk"
      },
      "source": [
        "## Result and Limitation"
      ]
    },
    {
      "cell_type": "code",
      "metadata": {
        "colab": {
          "base_uri": "https://localhost:8080/",
          "height": 281
        },
        "id": "4d35UWrHu1QF",
        "outputId": "563f5add-bcd4-439f-d431-07ad2a654d98"
      },
      "source": [
        "plt.plot(iterations, train_loss_lst, marker='', color='red', linewidth=2, label=\"Baseline Model\")\n",
        "plt.plot(iterations, train_loss_lst3, marker='', color='blue', linewidth=2, linestyle='dashed', label=\"Modified Model With Temporal Features\")\n",
        "plt.title(\"Train Loss of Baseline Model VS Variant\")\n",
        "plt.legend()\n",
        "plt.show()"
      ],
      "execution_count": null,
      "outputs": [
        {
          "output_type": "display_data",
          "data": {
            "image/png": "[encoded data removed]",
            "text/plain": [
              "<Figure size 432x288 with 1 Axes>"
            ]
          },
          "metadata": {
            "tags": [],
            "needs_background": "light"
          }
        }
      ]
    },
    {
      "cell_type": "code",
      "metadata": {
        "colab": {
          "base_uri": "https://localhost:8080/",
          "height": 281
        },
        "id": "2a6c4UVou6J5",
        "outputId": "09047b4a-d729-462f-8ea0-3490551c2070"
      },
      "source": [
        "plt.plot(iterations, train_rmse_lst, marker='', color='red', linewidth=2, label=\"Baseline Model\")\n",
        "plt.plot(iterations, train_rmse_lst3, marker='', color='blue', linewidth=2, linestyle='dashed', label=\"Modified Model With Temporal Features\")\n",
        "plt.title(\"Training RMSE of Baseline Model VS Variant\")\n",
        "plt.legend()\n",
        "plt.show()"
      ],
      "execution_count": null,
      "outputs": [
        {
          "output_type": "display_data",
          "data": {
            "image/png": "[encoded data removed]",
            "text/plain": [
              "<Figure size 432x288 with 1 Axes>"
            ]
          },
          "metadata": {
            "tags": [],
            "needs_background": "light"
          }
        }
      ]
    },
    {
      "cell_type": "code",
      "metadata": {
        "colab": {
          "base_uri": "https://localhost:8080/",
          "height": 281
        },
        "id": "mteVIWr8rS7e",
        "outputId": "c0c1f3b7-cafc-4527-88bc-9ea34621c831"
      },
      "source": [
        "plt.plot(iterations, test_rmse_lst, marker='', color='red', linewidth=2, label=\"Baseline Model\")\n",
        "plt.plot(iterations, test_rmse_lst3, marker='', color='blue', linewidth=2, linestyle='dashed', label=\"Modified Model with Temporal Features\")\n",
        "plt.title(\"Test RMSE of Baseline Model VS Variant\")\n",
        "plt.legend()\n",
        "plt.show()"
      ],
      "execution_count": null,
      "outputs": [
        {
          "output_type": "display_data",
          "data": {
            "image/png": "[encoded data removed]",
            "text/plain": [
              "<Figure size 432x288 with 1 Axes>"
            ]
          },
          "metadata": {
            "tags": [],
            "needs_background": "light"
          }
        }
      ]
    },
    {
      "cell_type": "markdown",
      "metadata": {
        "id": "LsrQVUh8wDDW"
      },
      "source": [
        "From the above three plots, we can see that our variant has lowered training loss by 8.71%, and training RMSE by 7.78%. The test RMSE is still slightly higher than the baseline model at the 5000th iteration, but it seems to decrease faster than the baseline model and we can believe that it will at least perform as the same as the baseline model with more iterations. \n",
        "\n",
        "Since we are using a Stochastic gradient descent to train our model, we can believe that our model reaches the maximum level with appropriate hyperparameters. To improve this model specifically, we might need to incorporate other models, such as other user demographics."
      ]
    },
    {
      "cell_type": "markdown",
      "metadata": {
        "id": "yA0xvy0Cs27g"
      },
      "source": [
        "# Variant 2: Using Side Info in Addition to Latents."
      ]
    },
    {
      "cell_type": "markdown",
      "metadata": {
        "id": "EDVKf16Oeng7"
      },
      "source": [
        "In the baseline model, both the user latent and the movie latent has two columns, one representing the latent factor and the other representing the bias for the mean. However, a user's preference can vary in movies genres, so the user latent for different movie genres can be different. Therefore, in this model, we add side info for movie genres as a variant to the baseline model.\n",
        "\n",
        "In this variant, while the movie latent remains to be a $(2 \\times n)$ matrix as in the baseline model, we now define the user latent as a $(k+1 \\times n)$ matrix, where $k$ is the number of genres and $n$ is the number of users. Then, we also define a matrix indicate the genres that a movies belong to.\n",
        "\n",
        "The baseline model predicts the rating based on the movie latent and the user latent in general, and based on the two new matrices we designed, the variant model predicts the rating based on the movie latent and the user latent for the specific genres of the movie."
      ]
    },
    {
      "cell_type": "markdown",
      "metadata": {
        "id": "13MPpRAQdJyA"
      },
      "source": [
        "## Model and Sanity Check"
      ]
    },
    {
      "cell_type": "code",
      "metadata": {
        "id": "O40ECVlNs9F4"
      },
      "source": [
        "movie_cat = movie_df.drop(columns = ['itemID', 'itemTitle'])\n",
        "movie_cat = movie_cat.values"
      ],
      "execution_count": null,
      "outputs": []
    },
    {
      "cell_type": "markdown",
      "metadata": {
        "id": "gQUi40dQIoPz"
      },
      "source": [
        "Number of iterations, training loss, training RMSE, testing RMSE using Variant 2."
      ]
    },
    {
      "cell_type": "code",
      "metadata": {
        "colab": {
          "base_uri": "https://localhost:8080/"
        },
        "id": "wh0SO8HUvSPU",
        "outputId": "3198107b-3294-46a1-e01c-c142caca9169"
      },
      "source": [
        "# Model implementation in JAX (https://github.com/google/jax)\n",
        "from jax.scipy.special import logsumexp\n",
        "\n",
        "# Optimization hyperparameters\n",
        "step_size = 10.0\n",
        "train_iters = 5000\n",
        "iterations = []\n",
        "train_loss_lst1 = []\n",
        "train_rmse_lst1 = []\n",
        "test_rmse_lst1 = []\n",
        "\n",
        "# Model hyperparameters\n",
        "num_factors = 1\n",
        "num_cats = len(cats)\n",
        "init_scale = 0.1\n",
        "latent_param_regularization = 0.1\n",
        "\n",
        "# Init parameters.  Add an extra column for biases.\n",
        "np.random.seed(2)\n",
        "user_latents  = np.random.randn(num_users, num_cats + 1) * init_scale\n",
        "movie_latents = np.random.randn(num_items, num_factors + 1) * init_scale\n",
        "params = (user_latents, movie_latents)\n",
        "\n",
        "# Actual model\n",
        "mean_rating = jnp.mean(train_targets)\n",
        "def pmf_predict(user_latents, movie_latents, inputs):\n",
        "  (user_index, movie_index) = (inputs[:, 0], inputs[:, 1])\n",
        "  item_cat = jax.device_put(movie_cat)[movie_index, :]\n",
        "  item_latent = jnp.sum(item_cat * user_latents[user_index, :-1], axis=1)\n",
        "  item_latent = item_latent.reshape((item_latent.shape[0], 1))\n",
        "  raw_preds = jnp.sum(item_latent * movie_latents[movie_index, :-1], axis=1) \\\n",
        "         + mean_rating + user_latents[user_index, -1] + movie_latents[movie_index,-1]\n",
        "  return raw_preds\n",
        "\n",
        "def regularization_loss(user_latents, movie_latents):\n",
        "  return latent_param_regularization * (jnp.mean((user_latents)**2) + jnp.mean((movie_latents)**2))\n",
        "\n",
        "def prediction_mse(params, inputs, targets):\n",
        "  preds = pmf_predict(*params, inputs)\n",
        "  return (preds - targets)**2\n",
        "\n",
        "def training_loss(params, inputs, targets):\n",
        "  return regularization_loss(*params) + jnp.mean(prediction_mse(params, inputs, targets), axis=0)\n",
        "\n",
        "# One training step\n",
        "@jit  # Pre-compiles the function to speed up training.\n",
        "def sgd_update(params, i):  # Stochastic gradient descent\n",
        "  (grads_user, grads_movie) = grad(training_loss)(params, train_inputs, train_targets)\n",
        "  (user_latents, movie_latents) = params\n",
        "  return (user_latents  - step_size * grads_user,  # one step of gradient descent\n",
        "          movie_latents - step_size * grads_movie)\n",
        "\n",
        "# Main training loop\n",
        "for i in range(train_iters):\n",
        "  params = sgd_update(params, i)\n",
        "  if i % 100 == 0:\n",
        "    # Print current progress\n",
        "    train_loss = training_loss(params, train_inputs, train_targets)\n",
        "    train_rmse = jnp.sqrt(prediction_mse(params, train_inputs, train_targets))\n",
        "    test_rmse  = jnp.sqrt(prediction_mse(params, test_inputs, test_targets))\n",
        "    print(i, train_loss, jnp.mean(train_rmse), jnp.mean(test_rmse))\n",
        "    iterations.append(i)\n",
        "    train_loss_lst1.append(train_loss)\n",
        "    train_rmse_lst1.append(jnp.mean(train_rmse))\n",
        "    test_rmse_lst1.append(jnp.mean(test_rmse))"
      ],
      "execution_count": null,
      "outputs": [
        {
          "output_type": "stream",
          "text": [
            "0 1.2498736 0.9289224 0.9326297\n",
            "100 0.8847966 0.74276423 0.7610215\n",
            "200 0.8600893 0.72953135 0.7495494\n",
            "300 0.84720314 0.7225243 0.74611557\n",
            "400 0.8317387 0.7143693 0.7450587\n",
            "500 0.8127457 0.704211 0.74516636\n",
            "600 0.7946565 0.69411385 0.74560666\n",
            "700 0.77919996 0.68519014 0.74668473\n",
            "800 0.7661655 0.67751616 0.74853015\n",
            "900 0.7550875 0.6709756 0.7507244\n",
            "1000 0.74567044 0.66531503 0.75286776\n",
            "1100 0.7376694 0.66041386 0.7550562\n",
            "1200 0.7308481 0.65615135 0.75722015\n",
            "1300 0.7249889 0.6524084 0.7592253\n",
            "1400 0.7199077 0.64911574 0.7610682\n",
            "1500 0.715462 0.64623016 0.76281106\n",
            "1600 0.71154946 0.643664 0.76442295\n",
            "1700 0.7080948 0.64136153 0.76601696\n",
            "1800 0.7050393 0.63931453 0.7674964\n",
            "1900 0.7023325 0.6374722 0.76884866\n",
            "2000 0.69992745 0.63581496 0.77012664\n",
            "2100 0.6977811 0.63431895 0.77133673\n",
            "2200 0.6958541 0.6329705 0.7724469\n",
            "2300 0.69411385 0.63173604 0.77348214\n",
            "2400 0.69253254 0.6305969 0.774425\n",
            "2500 0.6910877 0.6295634 0.7752891\n",
            "2600 0.68976116 0.62861353 0.77605873\n",
            "2700 0.6885373 0.6277329 0.77677906\n",
            "2800 0.6874034 0.62691194 0.777452\n",
            "2900 0.6863487 0.62614703 0.7780622\n",
            "3000 0.6853639 0.62543035 0.7786106\n",
            "3100 0.68444115 0.62475985 0.7791055\n",
            "3200 0.68357384 0.6241351 0.77955675\n",
            "3300 0.6827561 0.62354374 0.7799621\n",
            "3400 0.6819831 0.6229781 0.7803277\n",
            "3500 0.68125063 0.62244374 0.7806621\n",
            "3600 0.68055534 0.6219331 0.7809704\n",
            "3700 0.6798942 0.6214465 0.781236\n",
            "3800 0.6792652 0.62098163 0.78147537\n",
            "3900 0.6786665 0.6205401 0.78170925\n",
            "4000 0.67809653 0.6201188 0.7819334\n",
            "4100 0.67755437 0.6197173 0.7821384\n",
            "4200 0.6770391 0.6193342 0.7823306\n",
            "4300 0.6765499 0.6189644 0.7825119\n",
            "4400 0.6760861 0.6186096 0.7826895\n",
            "4500 0.6756465 0.6182692 0.7828566\n",
            "4600 0.6752301 0.61794704 0.78301275\n",
            "4700 0.6748358 0.6176404 0.7831788\n",
            "4800 0.67446244 0.6173475 0.78333175\n",
            "4900 0.6741086 0.61706597 0.78348565\n"
          ],
          "name": "stdout"
        }
      ]
    },
    {
      "cell_type": "code",
      "metadata": {
        "id": "jTRrFqvBvSHn"
      },
      "source": [
        "import warnings\n",
        "warnings.filterwarnings('ignore')\n",
        "# MSE of each observation of the testing data\n",
        "test_mse = prediction_mse(params, test_inputs, test_targets)\n",
        "test_rating_df = rating_df.iloc[90000:, :]\n",
        "test_df = pd.merge(test_rating_df, movie_df, on=\"itemID\")\n",
        "test_df['mse'] = test_mse.tolist()"
      ],
      "execution_count": null,
      "outputs": []
    },
    {
      "cell_type": "code",
      "metadata": {
        "colab": {
          "base_uri": "https://localhost:8080/",
          "height": 297
        },
        "id": "eNjwQgAqjj3a",
        "outputId": "c24ac80c-f92a-4b3a-f666-d90253615a50"
      },
      "source": [
        "category_df.describe()"
      ],
      "execution_count": null,
      "outputs": [
        {
          "output_type": "execute_result",
          "data": {
            "text/html": [
              "<div>\n",
              "<style scoped>\n",
              "    .dataframe tbody tr th:only-of-type {\n",
              "        vertical-align: middle;\n",
              "    }\n",
              "\n",
              "    .dataframe tbody tr th {\n",
              "        vertical-align: top;\n",
              "    }\n",
              "\n",
              "    .dataframe thead th {\n",
              "        text-align: right;\n",
              "    }\n",
              "</style>\n",
              "<table border=\"1\" class=\"dataframe\">\n",
              "  <thead>\n",
              "    <tr style=\"text-align: right;\">\n",
              "      <th></th>\n",
              "      <th>count</th>\n",
              "    </tr>\n",
              "  </thead>\n",
              "  <tbody>\n",
              "    <tr>\n",
              "      <th>count</th>\n",
              "      <td>19.000000</td>\n",
              "    </tr>\n",
              "    <tr>\n",
              "      <th>mean</th>\n",
              "      <td>11189.210526</td>\n",
              "    </tr>\n",
              "    <tr>\n",
              "      <th>std</th>\n",
              "      <td>11236.960723</td>\n",
              "    </tr>\n",
              "    <tr>\n",
              "      <th>min</th>\n",
              "      <td>10.000000</td>\n",
              "    </tr>\n",
              "    <tr>\n",
              "      <th>25%</th>\n",
              "      <td>2729.500000</td>\n",
              "    </tr>\n",
              "    <tr>\n",
              "      <th>50%</th>\n",
              "      <td>7182.000000</td>\n",
              "    </tr>\n",
              "    <tr>\n",
              "      <th>75%</th>\n",
              "      <td>16607.000000</td>\n",
              "    </tr>\n",
              "    <tr>\n",
              "      <th>max</th>\n",
              "      <td>39895.000000</td>\n",
              "    </tr>\n",
              "  </tbody>\n",
              "</table>\n",
              "</div>"
            ],
            "text/plain": [
              "              count\n",
              "count     19.000000\n",
              "mean   11189.210526\n",
              "std    11236.960723\n",
              "min       10.000000\n",
              "25%     2729.500000\n",
              "50%     7182.000000\n",
              "75%    16607.000000\n",
              "max    39895.000000"
            ]
          },
          "metadata": {
            "tags": []
          },
          "execution_count": 51
        }
      ]
    },
    {
      "cell_type": "markdown",
      "metadata": {
        "id": "ysHeXLvFkH7J"
      },
      "source": [
        "*Table 1:* The 1st quantile of the number of ratings in each category is 2729.5. And the 3rd qunatile is 16607."
      ]
    },
    {
      "cell_type": "code",
      "metadata": {
        "colab": {
          "base_uri": "https://localhost:8080/"
        },
        "id": "eY64Yv__kQrl",
        "outputId": "3faff77f-fc8f-4db6-bd4f-6308eb585dbb"
      },
      "source": [
        "cat_fewer = category_df[category_df['count'] < 2729.5]['category'].tolist()\n",
        "test_df_fewer = test_df[np.sum(test_df[cat_fewer], axis = 1)!=0]\n",
        "test_df_fewer['mse'].describe()"
      ],
      "execution_count": null,
      "outputs": [
        {
          "output_type": "execute_result",
          "data": {
            "text/plain": [
              "count    5.340000e+02\n",
              "mean     1.059674e+00\n",
              "std      1.896921e+00\n",
              "min      2.593479e-07\n",
              "25%      8.927646e-02\n",
              "50%      4.083659e-01\n",
              "75%      1.249443e+00\n",
              "max      2.114979e+01\n",
              "Name: mse, dtype: float64"
            ]
          },
          "metadata": {
            "tags": []
          },
          "execution_count": 52
        }
      ]
    },
    {
      "cell_type": "markdown",
      "metadata": {
        "id": "VHPKhaZ7m_Ye"
      },
      "source": [
        "*Table 2:* The average MSE of ratings in unpopular categories is 1.059674"
      ]
    },
    {
      "cell_type": "code",
      "metadata": {
        "colab": {
          "base_uri": "https://localhost:8080/"
        },
        "id": "UChM4yoheJaP",
        "outputId": "90d0d821-2be7-4be3-a604-8e1dd26bf42a"
      },
      "source": [
        "cat_more = category_df[category_df['count'] > 16607]['category'].tolist()\n",
        "test_df_more = test_df[np.sum(test_df[cat_more], axis = 1)!=0]\n",
        "test_df_more['mse'].describe()"
      ],
      "execution_count": null,
      "outputs": [
        {
          "output_type": "execute_result",
          "data": {
            "text/plain": [
              "count    9.135000e+03\n",
              "mean     1.021210e+00\n",
              "std      1.697306e+00\n",
              "min      2.313777e-08\n",
              "25%      9.132229e-02\n",
              "50%      4.076968e-01\n",
              "75%      1.210387e+00\n",
              "max      2.899513e+01\n",
              "Name: mse, dtype: float64"
            ]
          },
          "metadata": {
            "tags": []
          },
          "execution_count": 53
        }
      ]
    },
    {
      "cell_type": "markdown",
      "metadata": {
        "id": "epFmo-NWnLhz"
      },
      "source": [
        "*Table 3:* The average MSE of ratings in popular categories is 1.021210."
      ]
    },
    {
      "cell_type": "code",
      "metadata": {
        "colab": {
          "base_uri": "https://localhost:8080/",
          "height": 281
        },
        "id": "7b9fjtd4l8IZ",
        "outputId": "d2d081cb-1012-4a23-971b-712322f31500"
      },
      "source": [
        "plt.title(\"MSE of Unpopular and Popular Categories\")\n",
        "unpopular = test_df_fewer['mse']\n",
        "popular = test_df_more['mse']\n",
        "plt.boxplot([unpopular, popular])\n",
        "plt.show()"
      ],
      "execution_count": null,
      "outputs": [
        {
          "output_type": "display_data",
          "data": {
            "image/png": "[encoded data removed]",
            "text/plain": [
              "<Figure size 432x288 with 1 Axes>"
            ]
          },
          "metadata": {
            "tags": [],
            "needs_background": "light"
          }
        }
      ]
    },
    {
      "cell_type": "markdown",
      "metadata": {
        "id": "jga1ZDEkneJZ"
      },
      "source": [
        "Overall, the MSE of ratings in the unpopular movie categories is slightly higher than that in the popular movie categories, probably because the user latent parameter trained based on fewer ratings in the unpopular categoreis are less reliable. \n",
        "\n",
        "However, the variance of the MSE of ratings in the popular movie categories are larger thann that in the unpopular movie categories. A possible explanation is that a user's preferences for movies in a niche category are believed to be similar, but the preferences of the user for movies in popular categories can vary a lot more."
      ]
    },
    {
      "cell_type": "markdown",
      "metadata": {
        "id": "2YZozgQFpdTJ"
      },
      "source": [
        "## Result and Limitation"
      ]
    },
    {
      "cell_type": "markdown",
      "metadata": {
        "id": "fObNScFk4WL6"
      },
      "source": [
        "The main question that this model is answering is that a user's preference of movies can vary by genres, so the user latents for different genres can be different.\n",
        "\n",
        "The way to split the training and testing sets is the same as that in the basline model, so the training data is still the first 80000 observations, and the testing data is the last 10000 observations. Therefore, the spliting predicts behavior of a random existing user after the training data was gathered. "
      ]
    },
    {
      "cell_type": "code",
      "metadata": {
        "colab": {
          "base_uri": "https://localhost:8080/",
          "height": 281
        },
        "id": "EQiD3nL8q5Bf",
        "outputId": "ba779a30-e617-4f72-b24f-ea3966cee45c"
      },
      "source": [
        "plt.plot(iterations, train_loss_lst, marker='', color='red', linewidth=2, label=\"Baseline Model\")\n",
        "plt.plot(iterations, train_loss_lst1, marker='', color='blue', linewidth=2, linestyle='dashed', label=\"Modified Model With Side Info\")\n",
        "plt.title(\"Train Loss of Baseline Model VS Variant\")\n",
        "plt.legend()\n",
        "plt.show()"
      ],
      "execution_count": null,
      "outputs": [
        {
          "output_type": "display_data",
          "data": {
            "image/png": "[encoded data removed]",
            "text/plain": [
              "<Figure size 432x288 with 1 Axes>"
            ]
          },
          "metadata": {
            "tags": [],
            "needs_background": "light"
          }
        }
      ]
    },
    {
      "cell_type": "code",
      "metadata": {
        "colab": {
          "base_uri": "https://localhost:8080/",
          "height": 281
        },
        "id": "t4e3zN2xrMWz",
        "outputId": "383ec815-6cf8-41f8-838e-c8253d173fd3"
      },
      "source": [
        "plt.plot(iterations, train_rmse_lst, marker='', color='red', linewidth=2, label=\"Baseline Model\")\n",
        "plt.plot(iterations, train_rmse_lst1, marker='', color='blue', linewidth=2, linestyle='dashed', label=\"Modified Model With Side Info\")\n",
        "plt.title(\"Training RMSE of Baseline Model VS Variant\")\n",
        "plt.legend()\n",
        "plt.show()"
      ],
      "execution_count": null,
      "outputs": [
        {
          "output_type": "display_data",
          "data": {
            "image/png": "[encoded data removed]",
            "text/plain": [
              "<Figure size 432x288 with 1 Axes>"
            ]
          },
          "metadata": {
            "tags": [],
            "needs_background": "light"
          }
        }
      ]
    },
    {
      "cell_type": "code",
      "metadata": {
        "colab": {
          "base_uri": "https://localhost:8080/",
          "height": 298
        },
        "id": "uv8IF_vLrksw",
        "outputId": "c34639cc-4707-49f4-fb37-acf08e35911e"
      },
      "source": [
        "plt.plot(iterations, test_rmse_lst, marker='', color='red', linewidth=2, label=\"Baseline Model\")\n",
        "plt.plot(iterations, test_rmse_lst1, marker='', color='blue', linewidth=2, linestyle='dashed', label=\"Modified Model With Side Info\")\n",
        "plt.title(\"Testing RMSE of Baseline Model VS Variant\")\n",
        "plt.legend()"
      ],
      "execution_count": null,
      "outputs": [
        {
          "output_type": "execute_result",
          "data": {
            "text/plain": [
              "<matplotlib.legend.Legend at 0x7f66712f9780>"
            ]
          },
          "metadata": {
            "tags": []
          },
          "execution_count": 57
        },
        {
          "output_type": "display_data",
          "data": {
            "image/png": "[encoded data removed]",
            "text/plain": [
              "<Figure size 432x288 with 1 Axes>"
            ]
          },
          "metadata": {
            "tags": [],
            "needs_background": "light"
          }
        }
      ]
    },
    {
      "cell_type": "markdown",
      "metadata": {
        "id": "aek-BXEtzIJy"
      },
      "source": [
        "From the above three curves, this variant model has 11.68% lower training loss and 6.53% lower training RMSE than the baseline model. However, this model has 5.69% higher testing RMSE than the baseline model, probably because the user latents of each genre are trained from ratings in the training sets and is able to capture the features of the preferences of the existing behaviors better."
      ]
    },
    {
      "cell_type": "markdown",
      "metadata": {
        "id": "K_Jz1RDOuU_E"
      },
      "source": [
        "# Variant 3: Non-linear Prediction Function"
      ]
    },
    {
      "cell_type": "markdown",
      "metadata": {
        "id": "cN1Mxt697Oy8"
      },
      "source": [
        "In the original PMF, we used a linear factorization of a user-item matrix. And by using the linear prediction function, we assumed that user's preference is consistent over all the movies. However, in reality, user's ratings are far more complicated. And their preference may change for different items. For example, a user's interest in history decumentaries may not be correlated with their interest in romantic comedies. \n",
        "\n",
        "And in this variant, we make a combination between global preference and specific taste. First, we model each user with T latent vectors, and all of them correspond to a single latent variable of the item. In addition, since some users have not rated many movies, they have not provided enough information about their T different tastes, so we also use the original PMF as our 'global preference'.\n",
        "\n",
        "$r_{ui} = P_uQ_i^T+max_{t=1,...,T}W_{ut}Y_{i}^T$, \n",
        "\n",
        "where $r_{ui}$ is the rating of User $u$ to Item $i$, and $P$ is user latent factor matrix with dimension $n \\times k$, $Q$ is item latent factor matrix with dimension $m \\times k$ (the same as the baseline PMF). And $W$ ($n \\times k \\times T$) is the user latent factor matrix representing $T$ specific tastes of the user. And $Y (m \\times k)$ is the item latent factor matrix for taste-specific component.\n",
        "\n",
        "Every time, the specific taste among $T$ different tastes that matches best is captured using max. And this model is first introduced by Santosh Kabbur and George Karypis."
      ]
    },
    {
      "cell_type": "markdown",
      "metadata": {
        "id": "eXJihOrxFCtF"
      },
      "source": [
        "## Model and Sanity Check"
      ]
    },
    {
      "cell_type": "markdown",
      "metadata": {
        "id": "-iP6ovYeIuiw"
      },
      "source": [
        "Number of iterations, training loss, training RMSE, testing RMSE using Variant 3."
      ]
    },
    {
      "cell_type": "code",
      "metadata": {
        "colab": {
          "base_uri": "https://localhost:8080/"
        },
        "id": "GF_g9CT1xPjs",
        "outputId": "a2959cf4-5ed2-42f4-ed79-51ff4bb58f68"
      },
      "source": [
        "# Model implementation in JAX (https://github.com/google/jax)\n",
        "from jax.scipy.special import logsumexp\n",
        "\n",
        "# Optimization hyperparameters\n",
        "step_size = 10.0\n",
        "train_iters = 5000\n",
        "\n",
        "# Model hyperparameters\n",
        "num_factors = 1\n",
        "init_scale = 0.001\n",
        "latent_param_regularization = 0.1\n",
        "\n",
        "num_prob = 4 # T: number of different tastes of an item latent\n",
        "\n",
        "train_loss_lst2 = []\n",
        "train_rmse_lst2 = []\n",
        "test_rmse_lst2 = []\n",
        "\n",
        "# Init parameters.  Add an extra column for biases.\n",
        "np.random.seed(2)\n",
        "user_latents  = np.random.randn(num_users, num_factors + 1) * init_scale\n",
        "movie_latents = np.random.randn(num_items, num_factors + 1) * init_scale\n",
        "user_latents_tensor = np.random.randn(num_users, num_factors, num_prob) * init_scale # W (dimension is n*k*T)\n",
        "item_latents_tensor = np.random.randn(num_items, num_factors) * init_scale # Y (dimension is m*k)\n",
        "params = (user_latents, movie_latents, user_latents_tensor, item_latents_tensor)\n",
        "\n",
        "# Actual model\n",
        "mean_rating = jnp.mean(train_targets)\n",
        "def pmf_predict(user_latents, movie_latents, user_latents_tensor, item_latents_tensor, inputs):\n",
        "  (user_index, movie_index) = (inputs[:, 0], inputs[:, 1])\n",
        "  interest = user_latents_tensor[user_index, :, 0]* item_latents_tensor[movie_index, :]\n",
        "  # iterate T tastes to get the max WY\n",
        "  for t in range(1, num_prob):   \n",
        "    num_prob_interest =  user_latents_tensor[user_index, :, t]* item_latents_tensor[movie_index, :]\n",
        "    interest = jnp.concatenate([interest, num_prob_interest], axis=1)\n",
        "  max_interest = jnp.max(interest, axis=1)\n",
        "  raw_preds = jnp.sum(user_latents[user_index, :-1] * movie_latents[movie_index, :-1], axis=1) \\\n",
        "        + mean_rating + user_latents[user_index, -1] + movie_latents[movie_index,-1] + max_interest\n",
        "  return raw_preds\n",
        "\n",
        "def regularization_loss(user_latents, movie_latents, user_latents_tensor, item_latents_tensor):\n",
        "  return latent_param_regularization * (jnp.mean((user_latents)**2) + jnp.mean((movie_latents)**2 + jnp.mean((user_latents_tensor)**2)) + jnp.mean((item_latents_tensor)**2))\n",
        "\n",
        "def prediction_mse(params, inputs, targets):\n",
        "  preds = pmf_predict(*params, inputs)\n",
        "  return (preds - targets)**2\n",
        "\n",
        "def training_loss(params, inputs, targets):\n",
        "  return regularization_loss(*params) + jnp.mean(prediction_mse(params, inputs, targets), axis=0)\n",
        "\n",
        "# One training step\n",
        "@jit  # Pre-compiles the function to speed up training.\n",
        "def sgd_update(params, i):  # Stochastic gradient descent\n",
        "  (grads_user, grads_movie, grads_user_interest, grads_movie_interest) = grad(training_loss)(params, train_inputs, train_targets) #???\n",
        "  (user_latents, movie_latents, user_latents_tensor, item_latents_tensor) = params\n",
        "  return (user_latents  - step_size * grads_user,  # one step of gradient descent\n",
        "          movie_latents - step_size * grads_movie,\n",
        "          user_latents_tensor  - step_size * grads_user_interest,\n",
        "          item_latents_tensor - step_size * grads_movie_interest)\n",
        "\n",
        "# Main training loop\n",
        "for i in range(train_iters):\n",
        "  params = sgd_update(params, i)\n",
        "  if i % 100 == 0:\n",
        "    # Print current progress\n",
        "    train_loss = training_loss(params, train_inputs, train_targets)\n",
        "    train_rmse = jnp.sqrt(prediction_mse(params, train_inputs, train_targets))\n",
        "    test_rmse  = jnp.sqrt(prediction_mse(params, test_inputs, test_targets))\n",
        "    print(i, train_loss, jnp.mean(train_rmse), jnp.mean(test_rmse))\n",
        "    train_loss_lst2.append(train_loss)\n",
        "    train_rmse_lst2.append(jnp.mean(train_rmse))\n",
        "    test_rmse_lst2.append(jnp.mean(test_rmse))\n"
      ],
      "execution_count": null,
      "outputs": [
        {
          "output_type": "stream",
          "text": [
            "0 1.2343854 0.93208015 0.9366645\n",
            "100 0.8886361 0.74384 0.7619097\n",
            "200 0.86869806 0.7321538 0.75036067\n",
            "300 0.8625817 0.72799706 0.7467962\n",
            "400 0.86002976 0.72600085 0.74543107\n",
            "500 0.8587565 0.7248883 0.7448065\n",
            "600 0.8580302 0.7241874 0.74449277\n",
            "700 0.8575417 0.7236973 0.74431115\n",
            "800 0.857055 0.72327733 0.7441884\n",
            "900 0.85607487 0.7226706 0.7440445\n",
            "1000 0.85311055 0.72114116 0.7436525\n",
            "1100 0.8454443 0.7171823 0.74244034\n",
            "1200 0.83398706 0.7107973 0.7401285\n",
            "1300 0.8229741 0.70442355 0.7371639\n",
            "1400 0.8136789 0.6990736 0.7340649\n",
            "1500 0.8062243 0.6947087 0.73152196\n",
            "1600 0.7999901 0.69097126 0.7297533\n",
            "1700 0.7941456 0.687358 0.7282906\n",
            "1800 0.78850675 0.6836443 0.7269828\n",
            "1900 0.7834191 0.68011045 0.72584945\n",
            "2000 0.7790727 0.6769505 0.72503966\n",
            "2100 0.77554643 0.6742992 0.7244073\n",
            "2200 0.7728058 0.67216164 0.72392386\n",
            "2300 0.7706731 0.670431 0.7235191\n",
            "2400 0.768984 0.6690053 0.7231762\n",
            "2500 0.76762426 0.66781676 0.7229147\n",
            "2600 0.766518 0.6668035 0.72269887\n",
            "2700 0.7656089 0.66593504 0.72250897\n",
            "2800 0.76485586 0.6651882 0.72235304\n",
            "2900 0.7642273 0.6645376 0.7222197\n",
            "3000 0.7637002 0.66397506 0.7221007\n",
            "3100 0.7632553 0.6634838 0.7220038\n",
            "3200 0.7628776 0.663049 0.72192746\n",
            "3300 0.76255554 0.66266537 0.72186625\n",
            "3400 0.7622794 0.6623277 0.72181743\n",
            "3500 0.7620418 0.66202956 0.721785\n",
            "3600 0.76183516 0.66176265 0.721756\n",
            "3700 0.76165736 0.66152406 0.7217345\n",
            "3800 0.7615017 0.6613096 0.72172076\n",
            "3900 0.7613649 0.6611172 0.7217081\n",
            "4000 0.761245 0.66094345 0.7216983\n",
            "4100 0.7611393 0.6607861 0.7216903\n",
            "4200 0.76104444 0.6606421 0.7216811\n",
            "4300 0.7609604 0.66051084 0.72167087\n",
            "4400 0.76088536 0.66039085 0.72166395\n",
            "4500 0.7608026 0.6602723 0.7216749\n",
            "4600 0.7607039 0.66015786 0.72167736\n",
            "4700 0.76062006 0.66005164 0.72167784\n",
            "4800 0.76055515 0.65995646 0.72168\n",
            "4900 0.7604997 0.6598727 0.721687\n"
          ],
          "name": "stdout"
        }
      ]
    },
    {
      "cell_type": "code",
      "metadata": {
        "id": "DSrtfr9pzFon"
      },
      "source": [
        "import warnings\n",
        "warnings.filterwarnings('ignore')\n",
        "# MSE of each observation of the testing data\n",
        "test_mse = prediction_mse(params, test_inputs, test_targets)\n",
        "test_df = rating_df.iloc[90000:, :]\n",
        "test_df['mse'] = test_mse.tolist()"
      ],
      "execution_count": null,
      "outputs": []
    },
    {
      "cell_type": "code",
      "metadata": {
        "id": "V-zeN6a91jHu"
      },
      "source": [
        "# the number of movies rated by each user\n",
        "user_count = rating_df[['userID', 'itemID']].groupby(['userID']).agg(['count'])\n",
        "user_count.columns = ['count']\n",
        "user_count['userID'] = user_count.index\n",
        "user_count.reset_index(drop=True, inplace=True)"
      ],
      "execution_count": null,
      "outputs": []
    },
    {
      "cell_type": "code",
      "metadata": {
        "id": "UbnYmKct2wVw"
      },
      "source": [
        "test_df = pd.merge(test_df, user_count, on=\"userID\")"
      ],
      "execution_count": null,
      "outputs": []
    },
    {
      "cell_type": "code",
      "metadata": {
        "colab": {
          "base_uri": "https://localhost:8080/",
          "height": 297
        },
        "id": "W3CleI9F3Lky",
        "outputId": "c46375d5-bf77-45b1-dd95-0f6a9b08ffab"
      },
      "source": [
        "# get the 1st and 3rd quantile of the number of movies rated by user\n",
        "user_count.describe()"
      ],
      "execution_count": null,
      "outputs": [
        {
          "output_type": "execute_result",
          "data": {
            "text/html": [
              "<div>\n",
              "<style scoped>\n",
              "    .dataframe tbody tr th:only-of-type {\n",
              "        vertical-align: middle;\n",
              "    }\n",
              "\n",
              "    .dataframe tbody tr th {\n",
              "        vertical-align: top;\n",
              "    }\n",
              "\n",
              "    .dataframe thead th {\n",
              "        text-align: right;\n",
              "    }\n",
              "</style>\n",
              "<table border=\"1\" class=\"dataframe\">\n",
              "  <thead>\n",
              "    <tr style=\"text-align: right;\">\n",
              "      <th></th>\n",
              "      <th>count</th>\n",
              "      <th>userID</th>\n",
              "    </tr>\n",
              "  </thead>\n",
              "  <tbody>\n",
              "    <tr>\n",
              "      <th>count</th>\n",
              "      <td>943.000000</td>\n",
              "      <td>943.000000</td>\n",
              "    </tr>\n",
              "    <tr>\n",
              "      <th>mean</th>\n",
              "      <td>106.044539</td>\n",
              "      <td>472.000000</td>\n",
              "    </tr>\n",
              "    <tr>\n",
              "      <th>std</th>\n",
              "      <td>100.931743</td>\n",
              "      <td>272.364951</td>\n",
              "    </tr>\n",
              "    <tr>\n",
              "      <th>min</th>\n",
              "      <td>20.000000</td>\n",
              "      <td>1.000000</td>\n",
              "    </tr>\n",
              "    <tr>\n",
              "      <th>25%</th>\n",
              "      <td>33.000000</td>\n",
              "      <td>236.500000</td>\n",
              "    </tr>\n",
              "    <tr>\n",
              "      <th>50%</th>\n",
              "      <td>65.000000</td>\n",
              "      <td>472.000000</td>\n",
              "    </tr>\n",
              "    <tr>\n",
              "      <th>75%</th>\n",
              "      <td>148.000000</td>\n",
              "      <td>707.500000</td>\n",
              "    </tr>\n",
              "    <tr>\n",
              "      <th>max</th>\n",
              "      <td>737.000000</td>\n",
              "      <td>943.000000</td>\n",
              "    </tr>\n",
              "  </tbody>\n",
              "</table>\n",
              "</div>"
            ],
            "text/plain": [
              "            count      userID\n",
              "count  943.000000  943.000000\n",
              "mean   106.044539  472.000000\n",
              "std    100.931743  272.364951\n",
              "min     20.000000    1.000000\n",
              "25%     33.000000  236.500000\n",
              "50%     65.000000  472.000000\n",
              "75%    148.000000  707.500000\n",
              "max    737.000000  943.000000"
            ]
          },
          "metadata": {
            "tags": []
          },
          "execution_count": 62
        }
      ]
    },
    {
      "cell_type": "markdown",
      "metadata": {
        "id": "e3V7RxgOS5vY"
      },
      "source": [
        "*Table 4:* The 1st quantile of the number of movies rated by each user is 33. And the 3rd qunatile is 148."
      ]
    },
    {
      "cell_type": "code",
      "metadata": {
        "colab": {
          "base_uri": "https://localhost:8080/"
        },
        "id": "ViQQWuHc4PyQ",
        "outputId": "52410167-13fb-44c2-d253-6c63e8d298ff"
      },
      "source": [
        "# MSE of observations rated by user who has fewer ratings\n",
        "test_df_fewer = test_df[test_df['count'] < 33]\n",
        "test_df_fewer['mse'].describe()"
      ],
      "execution_count": null,
      "outputs": [
        {
          "output_type": "execute_result",
          "data": {
            "text/plain": [
              "count    601.000000\n",
              "mean       1.001852\n",
              "std        1.423218\n",
              "min        0.000032\n",
              "25%        0.104482\n",
              "50%        0.483597\n",
              "75%        1.245067\n",
              "max        8.281295\n",
              "Name: mse, dtype: float64"
            ]
          },
          "metadata": {
            "tags": []
          },
          "execution_count": 63
        }
      ]
    },
    {
      "cell_type": "markdown",
      "metadata": {
        "id": "o1Ii_LaFTNR3"
      },
      "source": [
        "*Table 5:* The average MSE of obervations rated by user who has fewer ratings is 0.999263."
      ]
    },
    {
      "cell_type": "code",
      "metadata": {
        "colab": {
          "base_uri": "https://localhost:8080/"
        },
        "id": "TmT27qFm4bmj",
        "outputId": "0d7ab563-e97d-49b1-db35-b83d203f74ba"
      },
      "source": [
        "# MSE of observations rated by user who has many ratings\n",
        "test_df_more = test_df[test_df['count'] > 148]\n",
        "test_df_more['mse'].describe()"
      ],
      "execution_count": null,
      "outputs": [
        {
          "output_type": "execute_result",
          "data": {
            "text/plain": [
              "count    5.492000e+03\n",
              "mean     8.087752e-01\n",
              "std      1.291245e+00\n",
              "min      1.099853e-07\n",
              "25%      6.939643e-02\n",
              "50%      3.337879e-01\n",
              "75%      9.858964e-01\n",
              "max      1.548185e+01\n",
              "Name: mse, dtype: float64"
            ]
          },
          "metadata": {
            "tags": []
          },
          "execution_count": 64
        }
      ]
    },
    {
      "cell_type": "markdown",
      "metadata": {
        "id": "naiWQaDMTck2"
      },
      "source": [
        "*Table 6:* The average MSE of obervations rated by user who has many ratings is 0.8154928."
      ]
    },
    {
      "cell_type": "markdown",
      "metadata": {
        "id": "-QvGkrUGB7B9"
      },
      "source": [
        "However, since for both 'global preference' and 'specific taste', we need many data to discover user's latent and their different tastes. So we would expect that users with fewer ratings would have perform worse than users with many ratings. \n",
        "\n",
        "And this is proved. The average MSE of predictions among users who have watched less than 33 (first quantile of all 943 users) is around 1. And the average MSE of predictions among users who have watched more than 148 (third quantile of all 943 users) is around 0.815. And first quantile, median, third quantile of MSE among users who have rated many movies are all smaller than that among users who have rated fewer movies."
      ]
    },
    {
      "cell_type": "markdown",
      "metadata": {
        "id": "0K5mG8Pad8QY"
      },
      "source": [
        "## Result and Limitation"
      ]
    },
    {
      "cell_type": "markdown",
      "metadata": {
        "id": "dvhi5c8oHK6Z"
      },
      "source": [
        "The main problem that this variant has solved is that user's preference is not consistent over all the movies, and 'a user's interest in history decumentaries may have little correlation with their interest in romantic comedies'.\n",
        "\n",
        "And we did not change the way to split training and testing data in this variant. So the training data is still the first 80000 observations, and the testing data is the last 10000 observations. So it predicts behavior of a random existing user after the training data was gathered. "
      ]
    },
    {
      "cell_type": "code",
      "metadata": {
        "colab": {
          "base_uri": "https://localhost:8080/",
          "height": 281
        },
        "id": "1PEOt-td6TWw",
        "outputId": "30c42416-3973-4f60-be76-929c29f66ba3"
      },
      "source": [
        "plt.plot(iterations, train_loss_lst, marker='', color='red', linewidth=2, label=\"Baseline Model\")\n",
        "plt.plot(iterations, train_loss_lst2, marker='', color='blue', linewidth=2, linestyle='dashed', label=\"Modified Model Using Non-linear Prediction Function\")\n",
        "plt.title(\"Train Loss of Baseline Model VS Variant\")\n",
        "plt.legend()\n",
        "plt.show()"
      ],
      "execution_count": null,
      "outputs": [
        {
          "output_type": "display_data",
          "data": {
            "image/png": "[encoded data removed]",
            "text/plain": [
              "<Figure size 432x288 with 1 Axes>"
            ]
          },
          "metadata": {
            "tags": [],
            "needs_background": "light"
          }
        }
      ]
    },
    {
      "cell_type": "code",
      "metadata": {
        "colab": {
          "base_uri": "https://localhost:8080/",
          "height": 281
        },
        "id": "uYyq3ViGwXoo",
        "outputId": "881822b4-7e97-4253-b0d1-a6e57c4b66e2"
      },
      "source": [
        "plt.plot(iterations, train_rmse_lst, marker='', color='red', linewidth=2, label=\"Baseline Model\")\n",
        "plt.plot(iterations, train_rmse_lst2, marker='', color='blue', linewidth=2, linestyle='dashed', label=\"Modified Model Using Non-linear Prediction Function\")\n",
        "plt.title(\"Training RMSE of Baseline Model VS Variant\")\n",
        "plt.legend()\n",
        "plt.show()"
      ],
      "execution_count": null,
      "outputs": [
        {
          "output_type": "display_data",
          "data": {
            "image/png": "[encoded data removed]",
            "text/plain": [
              "<Figure size 432x288 with 1 Axes>"
            ]
          },
          "metadata": {
            "tags": [],
            "needs_background": "light"
          }
        }
      ]
    },
    {
      "cell_type": "code",
      "metadata": {
        "colab": {
          "base_uri": "https://localhost:8080/",
          "height": 281
        },
        "id": "KAkbnUkbyCvr",
        "outputId": "f80ebb76-85fc-4c00-8e9f-c016cc091b9b"
      },
      "source": [
        "plt.plot(iterations, test_rmse_lst, marker='', color='red', linewidth=2, label=\"Baseline Model\")\n",
        "plt.plot(iterations, test_rmse_lst2, marker='', color='blue', linewidth=2, linestyle='dashed', label=\"Modified Model Using Non-linear Prediction Function\")\n",
        "plt.title(\"Testing RMSE of Baseline Model VS Variant\")\n",
        "plt.legend()\n",
        "plt.show()"
      ],
      "execution_count": null,
      "outputs": [
        {
          "output_type": "display_data",
          "data": {
            "image/png": "[encoded data removed]",
            "text/plain": [
              "<Figure size 432x288 with 1 Axes>"
            ]
          },
          "metadata": {
            "tags": [],
            "needs_background": "light"
          }
        }
      ]
    },
    {
      "cell_type": "markdown",
      "metadata": {
        "id": "Ppj0SoBAIfga"
      },
      "source": [
        "From the above three plots, we can see that our variant has lowered training loss by 3.850%, training RMSE by 3.294%, and testing RMSE by 0.675% than the simple PMF.\n",
        "\n",
        "However, since our variant also needs many data to train and learn users' latents. In addition, it also assumes that user has many tastes. So if many new users joining, the accuracy will be lower. Besides, if many users only rate few movies, the accuracy will be lower too. But if many users stick around and rate more movies, the accuracy will increase over time.\n"
      ]
    }
  ]
}